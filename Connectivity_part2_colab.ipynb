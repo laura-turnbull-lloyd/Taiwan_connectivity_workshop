{
  "cells": [
    {
      "cell_type": "markdown",
      "metadata": {
        "id": "view-in-github",
        "colab_type": "text"
      },
      "source": [
        "<a href=\"https://colab.research.google.com/github/laura-turnbull-lloyd/Taiwan_connectivity_workshop/blob/main/Connectivity_part2_colab.ipynb\" target=\"_parent\"><img src=\"https://colab.research.google.com/assets/colab-badge.svg\" alt=\"Open In Colab\"/></a>"
      ]
    },
    {
      "cell_type": "markdown",
      "source": [
        "\n",
        "# **Connectivity workshop: Part 2**\n",
        "# John Wainwright and Laura Turnbull\n",
        "# 3rd June 2025\n",
        "\n",
        "#**A practical application: calculating SC-FC relations for rainfall-runoff events at the Walnut Gulch Experimental Watershed, USA**\n",
        "\n",
        "In this practical exercise we will focus on hydrological connectivity at a much larger spatial scale: the watershed scale. We will explore how to use watershed structure data and hydrological time-series data to quantify structural and functional connectivity within an ephemeral watershed. Although the focus of analysis here is the watershed scale, it is nevertheless important to consider how local- and global-scale connectivity properties at the hillslope scale shape the larger hydrological reponse.\n",
        "\n",
        "We will calculate structural-functional connectivity (SC-FC) correlations for two types of connectivity that were introduced in a paper by Voutsa et al (2021):\n",
        "\n",
        "* **synchronous connectivity** - characterizes connectivity based on a synchronized response\n",
        "* **sequential connectivity** - characterizes connectivity based on a lagged connected response through a watershed\n",
        "\n",
        "##Getting started\n",
        "We will undertake this analysis using several python packages\n",
        "* Numpy - a mathematical operations package\n",
        "* Pandas - a data analysis and data manipulation tool\n",
        "* Matplotlib - a comprehensive library for creating visulaizations\n",
        "* Networkx - one of the main python libraries for analyzing networks\n",
        "\n",
        "## Installing/loading the packages\n",
        "Google colab has most packages pre-installed, but we will be using one called datatree which we have to install manually. The rest can simply be loaded from within the python notebook."
      ],
      "metadata": {
        "id": "MGfQHWXx8oJA"
      },
      "id": "MGfQHWXx8oJA"
    },
    {
      "cell_type": "code",
      "execution_count": null,
      "id": "4557718b-09a5-4a05-9e80-f498f64c42f9",
      "metadata": {
        "id": "4557718b-09a5-4a05-9e80-f498f64c42f9"
      },
      "outputs": [],
      "source": [
        "#installs a package\n",
        "!pip install git+https://github.com/xarray-contrib/datatree\n",
        "\n",
        "#loads packages\n",
        "import numpy as np\n",
        "import pandas as pd\n",
        "import networkx as nx\n",
        "import xarray as xr\n",
        "import datatree as dtree\n",
        "from itertools import permutations\n",
        "import os\n",
        "import matplotlib.pyplot as plt\n",
        "import matplotlib.cm as cm\n",
        "import matplotlib.colors as colors\n",
        "import seaborn as sns\n",
        "import requests"
      ]
    },
    {
      "cell_type": "markdown",
      "source": [
        "#Loading the data\n",
        "The data you will use in this practical are preloaded on a github page [here](https://github.com/laura-turnbull-lloyd/Taiwan_connectivity_workshop/tree/main/data), for easy access.\n",
        "\n",
        "The data consist of:\n",
        "* flume_watersheds - a file containing the contributing are to each flume in the watershed\n",
        "* df_sc_seq_extended - the edgelist for the sequential structural connectivity\n",
        "* rain_runoff_summary - flow data and event average rainfall at the watershed outlet\n",
        "* flume_coordinates_final - coordinates of the flumes\n",
        "\n",
        "To load the data in .csv format, we can call it from a url:"
      ],
      "metadata": {
        "id": "gVRJQeTR4jOd"
      },
      "id": "gVRJQeTR4jOd"
    },
    {
      "cell_type": "code",
      "source": [
        "# Set url for the different data sets we'll be using\n",
        "flume_watersheds = 'https://raw.githubusercontent.com/laura-turnbull-lloyd/Taiwan_connectivity_workshop/main/data/Flume_watersheds.csv'\n",
        "df_sc_seq_extended = 'https://raw.githubusercontent.com/laura-turnbull-lloyd/Taiwan_connectivity_workshop/main/data/df_sc_seq_extended.csv'\n",
        "flume_coordinates = 'https://raw.githubusercontent.com/laura-turnbull-lloyd/Taiwan_connectivity_workshop/main/data/flume_coordinates_final.csv'\n",
        "edgelist = 'https://raw.githubusercontent.com/laura-turnbull-lloyd/Taiwan_connectivity_workshop/main/data/edgelist.csv'\n",
        "rain_runoff_summary = 'https://raw.githubusercontent.com/laura-turnbull-lloyd/Taiwan_connectivity_workshop/main/data/rain_runoff_summary.csv'\n"
      ],
      "metadata": {
        "collapsed": true,
        "id": "gVFBCmRY4NrN"
      },
      "id": "gVFBCmRY4NrN",
      "execution_count": null,
      "outputs": []
    },
    {
      "cell_type": "markdown",
      "source": [
        "The flow data we will use to calculate functional connectivity are provided for you in a 'netcdf' file. These data have been collected by the United States Department of Agriculture, and the original version can be found [here](https://www.tucson.ars.ag.gov/dap/). For simplicity, these continuous time-series data, featuring lots of 0 values as the system is ephemeral, have been processed into discrete rainfall-runoff events. As we're interested in connectivity, all the events contained within the flow dataset have at least 5 flumes activated.\n",
        "\n",
        "For the flow data stored in netcdf format (this is a compressed file format that's useful for storing large volumes of data), we will first open the file locally (the netcdf package can't load data directly from a url!) and then open it within the netcdf package."
      ],
      "metadata": {
        "id": "1Pt2Im1D46iu"
      },
      "id": "1Pt2Im1D46iu"
    },
    {
      "cell_type": "code",
      "source": [
        "#for the netcdf file, we will first open this locally (it's just to do with a quirk of the netcdf package)\n",
        "runoff_events_url = 'https://raw.githubusercontent.com/laura-turnbull-lloyd/Taiwan_connectivity_workshop/main/data/runoff_events_2000_2006.nc'\n",
        "runoff_events_local_path = 'runoff_events_2000_2006.nc'\n",
        "\n",
        "response = requests.get(runoff_events_url)\n",
        "with open(runoff_events_local_path, 'wb') as f:\n",
        "    f.write(response.content)"
      ],
      "metadata": {
        "id": "SSShI75f5zG8"
      },
      "id": "SSShI75f5zG8",
      "execution_count": null,
      "outputs": []
    },
    {
      "cell_type": "markdown",
      "source": [
        "#Structural connectivity\n",
        "\n",
        "We will start off the analysis with a look at the structural connectivity of the system.\n",
        "\n",
        "We differentiate between two structural connectivity networks, one to capture the synchronous activity of the runoff and one to capture the sequential activity, i.e. the water flow between upslope and downslope locations.\n",
        "\n",
        "Our conceptualization is based on the following rationale:\n",
        "\n",
        "**Synchronous connectivity** results from rapid and simultaneous hydrological response, where the timing and shape of the runoff response are consistent across multiple locations. Hence,  flumes that are close in space (i.e. in adjacent sub-watersheds), but not necessarily located upslope/downslope can be activated simultaneously. For this reason, the inverse Euclidean distance is an appropriate feature to be used in deriving the $SC_{sync}$ network, because it draws stronger links between flumes that lie in closer proximity to one another. In addition, because of the way that hydrological processes scale with watershed area,  we can expect a more similar hydrological response for flumes that have similar contributing areas. Therefore, weights describing the similarity of the channels with respect to the size of their contributing areas can be added as an additional feature in the $SC_{sync}$ in order to in order to characterise the overall possibility space in which $FC_{sync}$ can occur.\n",
        "\n",
        "**Sequential connectivity** on the other hand, represents the processed-based connectivity of water flowing through the river network, and depends on the opportunity time for water to infiltrate into the channel bed. Thus, the length of the channel as well as the average channel slope between two flumes are two key structural features that affect how the water flows through this type of ephemeral system. Shorter channel lengths and steeper slopes contribute to stronger structural connections between the flumes.\n",
        "\n",
        "The weighted $SC$ matrices are described as follows:\n",
        "\n",
        "\\begin{equation}\n",
        "\\begin{split}\n",
        "SC_{sync_{ij}} &=   \\frac{1}{d_{ij}} + \\frac{min{(C_{i}, C_{j}})}{max{(C_{i}, C_{j}})} , \\\\\n",
        "SC_{seq_{ij}} &=  \\frac{1}{l_{ij}} + S_{ij} ,\n",
        "\\end{split}\n",
        "\\end{equation}\n",
        "\n",
        "where $C_{i}$, $C_{j}$ are the contributing areas in $km^2$ for the flumes $i$ and $j$, $d_{ij}$ is the Euclidean distance between flumes, $l_{ij}$ is the channel length between flume $i$ and flume $j$ and $S_{ij}$ the slope of the channel in percent.\n",
        "\n",
        "##Synchronous structural connectivity\n",
        "There are various stages involved in calculating the synchronous structural connectivity.\n",
        "\n",
        "The function below calculates the inverse distance between a pair of flumes."
      ],
      "metadata": {
        "id": "RWUIYKzv33mc"
      },
      "id": "RWUIYKzv33mc"
    },
    {
      "cell_type": "code",
      "execution_count": null,
      "id": "bc62c2ff-09fd-4aba-b110-4c72b1555ae4",
      "metadata": {
        "id": "bc62c2ff-09fd-4aba-b110-4c72b1555ae4"
      },
      "outputs": [],
      "source": [
        "def eucleidian_distance(flume_pair):\n",
        "    flume1 = df_flume_coordinates[df_flume_coordinates['Flume'] == flume_pair[0]]\n",
        "    flume2 = df_flume_coordinates[df_flume_coordinates['Flume'] == flume_pair[1]]\n",
        "\n",
        "    distance = np.sqrt((flume1.East.values - flume2.East.values)**2 + (flume1.North.values - flume2.North.values)**2)\n",
        "\n",
        "    return np.round(distance[0], 2).item()"
      ]
    },
    {
      "cell_type": "markdown",
      "id": "60d01b9b-7c40-4ada-96b1-e4a13bef2c5a",
      "metadata": {
        "id": "60d01b9b-7c40-4ada-96b1-e4a13bef2c5a"
      },
      "source": [
        "\n",
        "Next, we read in the flume coordinates, generate a lost of all possible pairs of flumes in the watershed, and determine inverse of the euclidean distance between flumes and the similarity of their contributing area."
      ]
    },
    {
      "cell_type": "code",
      "execution_count": null,
      "id": "682fd4a4-505f-42fe-bf35-85b5c204e604",
      "metadata": {
        "id": "682fd4a4-505f-42fe-bf35-85b5c204e604"
      },
      "outputs": [],
      "source": [
        "# SCsim\n",
        "\n",
        "# Read in the spatial data that is used to calculate synchronous structural connectivity\n",
        "df_flume_coordinates = pd.read_csv(flume_coordinates)\n",
        "df_contributing_area = pd.read_csv(os.path.join(flume_watersheds),index_col = 0)\n",
        "\n",
        "# Generate all possible ordered pairs (i.e., directed pairs) of length 2 from the list of flume names\n",
        "edges_eucl_distance = list(permutations(df_flume_coordinates['Flume'], 2))\n",
        "\n",
        "# Convert to a dataframe of all possible flume pairs\n",
        "df_sc_sim = pd.DataFrame(edges_eucl_distance, columns=['flume 1', 'flume 2'])\n",
        "\n",
        "# Calculate the euclidean distance between each pair of flumes\n",
        "distances = []\n",
        "for flume_pair in edges_eucl_distance:\n",
        "    distances.append(eucleidian_distance(flume_pair))\n",
        "\n",
        "# Take the inverse of the euclidean distance between flumes, in km\n",
        "weights = [1/np.round(dist/1000, 2).item() for dist in distances]\n",
        "df_sc_sim['weight dist'] = weights\n",
        "\n",
        "# Calculate a similarity metric based on contributing area for each flume pair in df_sc_sim, and store the result in a list called sc_contributing_area.\n",
        "sc_contributing_area = []\n",
        "\n",
        "for i in range(len(df_sc_sim)):\n",
        "    flume1 = df_sc_sim['flume 1'].iloc[i]\n",
        "    flume2 = df_sc_sim['flume 2'].iloc[i]\n",
        "    area1 = df_contributing_area[df_contributing_area['Flume'] == flume1].Contributing_area_km2.iloc[0]\n",
        "    area2 = df_contributing_area[df_contributing_area['Flume'] == flume2].Contributing_area_km2.iloc[0]\n",
        "    sc_contributing_area.append(min(area1, area2)/max(area1, area2)) #abs(area1 - area2)\n",
        "\n",
        "df_sc_sim['weight contr area'] = sc_contributing_area\n",
        "\n",
        "# Calculate an overall weight by combining the two weighting metrics (euclidean distance and contributing area similarity)\n",
        "df_sc_sim['weight'] =( df_sc_sim['weight dist'] + df_sc_sim['weight contr area'])/2\n",
        "\n",
        "# Get all unique flumes\n",
        "flumes = sorted(set(df_sc_sim['flume 1']).union(df_sc_sim['flume 2']))\n",
        "flume_indices = {flume: idx for idx, flume in enumerate(flumes)}\n",
        "\n",
        "# Create empty adjacency matrix\n",
        "adj_sim_mix = np.zeros((len(flumes), len(flumes)))\n",
        "\n",
        "# Populate the adjacency matrix with the calculated weights\n",
        "for ii, row in df_sc_sim.iterrows():\n",
        "    i = flume_indices[row['flume 1']]\n",
        "    j = flume_indices[row['flume 2']]\n",
        "    adj_sim_mix[i][j] = row['weight']\n",
        "\n",
        "# Convert the adjacency matrix to a pandas dataframe\n",
        "adj_sim_mix = pd.DataFrame(adj_sim_mix, index=flumes, columns=flumes)\n",
        "\n",
        "# Uncomment the line below if you wish to view the adjacency matrix\n",
        "# print(adj_sim_mix)"
      ]
    },
    {
      "cell_type": "markdown",
      "source": [
        "##Plotting out the adjacency matrix\n",
        "It's often useful to plot out the adjacency matrix because it gives you a visual overview of network structure. It shows which nodes within the network have a high value (note that often adjacency matrices are binary -- 0 and 1s, representing simply whether there is or isn't a link).\n",
        "\n",
        "The adjacency matrix enables us to quickly see if there are patterns in the network, or certain highly connected nodes."
      ],
      "metadata": {
        "id": "oH2TBnrsSG_j"
      },
      "id": "oH2TBnrsSG_j"
    },
    {
      "cell_type": "code",
      "source": [
        "# To plot the adjacency matrix\n",
        "plt.figure(figsize=(6, 5))\n",
        "sns.heatmap(adj_sim_mix, annot=False, cmap=\"viridis\", square=True)\n",
        "plt.title(\"Weighted synchronous connectivity adjacency matrix\")\n",
        "plt.xlabel(\"To Node\")\n",
        "plt.ylabel(\"From Node\")\n",
        "plt.show()"
      ],
      "metadata": {
        "id": "KeHxrTWa8E2g"
      },
      "id": "KeHxrTWa8E2g",
      "execution_count": null,
      "outputs": []
    },
    {
      "cell_type": "markdown",
      "source": [
        "**Question:** What does this weighted adjacency matrix tell you about the structure of the network?\n"
      ],
      "metadata": {
        "id": "-VTlXt0K7Gw2"
      },
      "id": "-VTlXt0K7Gw2"
    },
    {
      "cell_type": "code",
      "source": [
        "#To plot the synchronous connectivity network\n",
        "\n",
        "#Create the graph\n",
        "G = nx.from_pandas_adjacency(adj_sim_mix, create_using=nx.DiGraph)"
      ],
      "metadata": {
        "id": "JXcY6Ie3-yek"
      },
      "id": "JXcY6Ie3-yek",
      "execution_count": null,
      "outputs": []
    },
    {
      "cell_type": "code",
      "source": [
        "#Extract the spatial positions to use to plot the spatial network\n",
        "# Use 'Flume' as node ID, with East/North as coordinates\n",
        "pos = {row['Flume']: (row['East'], row['North']) for _, row in df_flume_coordinates.iterrows()}\n",
        "\n",
        "# Plot with spatial positions\n",
        "plt.figure(figsize=(6, 3))\n",
        "edges = G.edges(data=True)\n",
        "weights = [d['weight'] * 5 for (u, v, d) in edges]  # scale weights for visibility\n",
        "\n",
        "nx.draw(\n",
        "    G, pos=pos, with_labels=True, node_color='red',\n",
        "    edge_color=weights, width=1, node_size=300\n",
        ")\n",
        "plt.title(\"Synchronous connectivity network\")\n",
        "plt.axis(\"equal\")\n",
        "plt.show()\n",
        "\n"
      ],
      "metadata": {
        "id": "_jwx_yhq8v74"
      },
      "id": "_jwx_yhq8v74",
      "execution_count": null,
      "outputs": []
    },
    {
      "cell_type": "markdown",
      "source": [
        "#Sequential structural connectivity\n",
        "Calculating sequential connectivity is much simpler, because the network is much smaller, as the sequential connectivity network is directed.\n",
        "\n",
        "Building the sequential structural connectivity network requires the location of nodes, the distance between flumes (the distance through the channel network, rather than the euclidean distance, as this is a more meaningful distance measure in this context), and the average channel slope.\n",
        "\n",
        "Adjacency matrices are created separately for each weighting variable, and then combined, with equal weighting, to reflect the combined effect of channel length and slope on overall edge weight.\n"
      ],
      "metadata": {
        "id": "-WJX8PlJIRC3"
      },
      "id": "-WJX8PlJIRC3"
    },
    {
      "cell_type": "code",
      "execution_count": null,
      "id": "44e68fb7-13ae-4c5b-9103-30da040bc36b",
      "metadata": {
        "id": "44e68fb7-13ae-4c5b-9103-30da040bc36b"
      },
      "outputs": [],
      "source": [
        "# SCseq\n",
        "df_edges_seq = pd.read_csv(os.path.join(edgelist), index_col = 0)\n",
        "df_sc_seq = pd.read_csv(df_sc_seq_extended, index_col = 0)\n",
        "\n",
        "# Create adjacency matrices for 'weight length' and 'slope_percent'\n",
        "adj_matrices = {}\n",
        "for col in ['weight length', 'slope_percent']:\n",
        "    df = df_sc_seq[['source', 'target', col]].rename(columns={col: 'value'})\n",
        "    all_labels = sorted(set(df['source']).union(df['target']))\n",
        "    adj_matrices[col] = df.pivot(index='source', columns='target', values='value').reindex(index=all_labels, columns=all_labels)\n",
        "\n",
        "# Combine both matrices (equivalent to equal weighting)\n",
        "adj_seq_mix = 0.5*adj_matrices['weight length'] + 0.5*adj_matrices['slope_percent']\n"
      ]
    },
    {
      "cell_type": "code",
      "source": [
        "#To view the adjacency matrix\n",
        "adj_seq_mix"
      ],
      "metadata": {
        "id": "ugThS72DWMvs"
      },
      "id": "ugThS72DWMvs",
      "execution_count": null,
      "outputs": []
    },
    {
      "cell_type": "code",
      "source": [
        "# To plot the adjacency matrix\n",
        "plt.figure(figsize=(6, 5))\n",
        "sns.heatmap(adj_seq_mix, annot=False, cmap=\"viridis\", square=True)\n",
        "plt.title(\"Weighted sequential structural connectivity adjacency matrix\")\n",
        "plt.xlabel(\"To Node\")\n",
        "plt.ylabel(\"From Node\")\n",
        "plt.show()"
      ],
      "metadata": {
        "id": "q3Dj28JwJahB"
      },
      "id": "q3Dj28JwJahB",
      "execution_count": null,
      "outputs": []
    },
    {
      "cell_type": "markdown",
      "source": [
        "##Viewing this adjacency matrix as a graph"
      ],
      "metadata": {
        "id": "suMXrriyJ4Wn"
      },
      "id": "suMXrriyJ4Wn"
    },
    {
      "cell_type": "code",
      "source": [
        "#Create the graph\n",
        "G_seq = nx.from_pandas_adjacency(adj_seq_mix, create_using=nx.DiGraph)\n",
        "\n",
        "# Filter edges that have non-NaN weights\n",
        "edges = [(u, v, d) for u, v, d in G_seq.edges(data=True) if not np.isnan(d['weight'])]\n",
        "edge_tuples = [(u, v) for u, v, _ in edges]\n",
        "weights = [d['weight'] for _, _, d in edges]\n",
        "\n",
        "# Plot\n",
        "plt.figure(figsize=(7, 4))\n",
        "nx.draw(\n",
        "    G_seq,\n",
        "    pos=pos,\n",
        "    edgelist=edge_tuples,\n",
        "    edge_color=weights,\n",
        "    edge_cmap=plt.cm.viridis,\n",
        "    width=[w * 1 for w in weights],\n",
        "    with_labels=True,\n",
        "    node_color='red',\n",
        "    node_size=150,\n",
        "    connectionstyle='arc3,rad=0.5'  # curves the edges\n",
        ")\n",
        "plt.axis(\"equal\")\n",
        "plt.title(\"Sequential structural connectivity network\")\n",
        "plt.show()"
      ],
      "metadata": {
        "collapsed": true,
        "id": "_fiO3g6oKI4j"
      },
      "id": "_fiO3g6oKI4j",
      "execution_count": null,
      "outputs": []
    },
    {
      "cell_type": "markdown",
      "source": [
        "You will see in this graph that a downstream flume is connected to all upstream flumes. This way, the functional connectivity between non-adjacent flumes is assessed."
      ],
      "metadata": {
        "id": "MnYoS-fq_Lvb"
      },
      "id": "MnYoS-fq_Lvb"
    },
    {
      "cell_type": "markdown",
      "source": [
        "#Sequential functional connectivity calculations\n",
        "\n",
        "First, we will set up a function that calculates  $FC_{seq}$  for each event. Recall that quantifying  $FC_{seq}$  between flumes is a lagged correlation analysis, where the lag time used in the calculations is a simple approximation of flow travel times under \"average\" conditions."
      ],
      "metadata": {
        "id": "VN2aPbP9SBSq"
      },
      "id": "VN2aPbP9SBSq"
    },
    {
      "cell_type": "code",
      "execution_count": null,
      "id": "4b598ab0-4847-42cc-bf3d-3a29c99f54cb",
      "metadata": {
        "id": "4b598ab0-4847-42cc-bf3d-3a29c99f54cb",
        "collapsed": true
      },
      "outputs": [],
      "source": [
        "#Setting node labels\n",
        "flume_labels = [f'flume_{i}' for i in all_labels]\n",
        "flume_labels"
      ]
    },
    {
      "cell_type": "code",
      "execution_count": null,
      "id": "fe0fd0fd-ef68-436c-9797-1c7d1f8e8b54",
      "metadata": {
        "id": "fe0fd0fd-ef68-436c-9797-1c7d1f8e8b54"
      },
      "outputs": [],
      "source": [
        "def compute_fc_seq_for_event(df_complete, flume_labels, df_edges_seq):\n",
        "    \"\"\"\n",
        "    Compute functional connectivity sequence matrix for one event's data.\n",
        "\n",
        "    Args:\n",
        "        df_complete (pd.DataFrame): DataFrame with flume data aligned to flume_labels.\n",
        "        flume_labels (list): List of flume labels (e.g., ['flume_1', 'flume_2', ...]).\n",
        "        df_edges_seq (pd.DataFrame): Edges DataFrame with 'source', 'target', and 'time-delay mins'.\n",
        "\n",
        "    Returns:\n",
        "        np.ndarray: fc_seq matrix of correlations adjusted for time delays.\n",
        "    \"\"\"\n",
        "    T = len(df_complete)\n",
        "    n_flumes = len(flume_labels)\n",
        "    fc_seq = np.zeros((n_flumes, n_flumes))\n",
        "\n",
        "    for idx in range(len(df_edges_seq)):\n",
        "        flume1 = f\"flume_{df_edges_seq['source'].iloc[idx]}\"\n",
        "        flume2 = f\"flume_{df_edges_seq['target'].iloc[idx]}\"\n",
        "\n",
        "        if flume1 in flume_labels and flume2 in flume_labels:\n",
        "            i1 = flume_labels.index(flume1)\n",
        "            i2 = flume_labels.index(flume2)\n",
        "\n",
        "# here we used a pre-defined time delay, read in from the input file\n",
        "            if not (np.isnan(df_complete[flume1].iloc[0]) or np.isnan(df_complete[flume2].iloc[0])):\n",
        "                t_delay = int(round(df_edges_seq['time-delay mins'].iloc[idx], 0))\n",
        "                if T > t_delay:\n",
        "                    runoff_flume1 = df_complete[flume1].iloc[0:(T - t_delay)]\n",
        "                    runoff_flume2 = df_complete[flume2].iloc[t_delay:T]\n",
        "\n",
        "                    corr_val = np.corrcoef(runoff_flume1, runoff_flume2)[0, 1]\n",
        "                    fc_seq[i1, i2] = np.round(corr_val, 2)\n",
        "\n",
        "    return np.nan_to_num(fc_seq)\n"
      ]
    },
    {
      "cell_type": "markdown",
      "source": [
        "Now that we have set up the function to calculate  $FC_{seq}$, we need to open the flow data:"
      ],
      "metadata": {
        "id": "bSONgGRomkd4"
      },
      "id": "bSONgGRomkd4"
    },
    {
      "cell_type": "code",
      "execution_count": null,
      "id": "12b80985-7b8f-456f-b8bf-456e1e6b22c6",
      "metadata": {
        "id": "12b80985-7b8f-456f-b8bf-456e1e6b22c6"
      },
      "outputs": [],
      "source": [
        "# load runoff data\n",
        "tree = dtree.open_datatree('runoff_events_2000_2006.nc', format=\"NETCDF4\")"
      ]
    },
    {
      "cell_type": "markdown",
      "source": [
        "We can view the structure of the data stored in the netcdf file by printing it out:"
      ],
      "metadata": {
        "id": "92VRV6m3AOyI"
      },
      "id": "92VRV6m3AOyI"
    },
    {
      "cell_type": "code",
      "source": [
        "print(tree)"
      ],
      "metadata": {
        "id": "lwPf_MIrCQcU",
        "collapsed": true
      },
      "id": "lwPf_MIrCQcU",
      "execution_count": null,
      "outputs": []
    },
    {
      "cell_type": "markdown",
      "source": [
        "We can see above that there's a group, containing an \"event identifier\". We can use this ID to extract data from the netcdf file for a single event at a time."
      ],
      "metadata": {
        "id": "k2NNEN-OAb12"
      },
      "id": "k2NNEN-OAb12"
    },
    {
      "cell_type": "code",
      "execution_count": null,
      "id": "cb899968-9f52-4349-b14c-6e4664aef42e",
      "metadata": {
        "id": "cb899968-9f52-4349-b14c-6e4664aef42e"
      },
      "outputs": [],
      "source": [
        "event_labels = []\n",
        "for node in tree.descendants:\n",
        "    event_labels.append(node.name)"
      ]
    },
    {
      "cell_type": "markdown",
      "source": [
        "#Explore the data for a single event\n",
        "The runoff data is vast, and therefore, to become familiar with the data, and to walk though the functional connectivity calculations, we'll first explore the data for a single flow event.\n",
        "\n",
        "Starting with ```event_0```, we can subset the data for this event, and then view the properties of the data, using the ```print``` command:\n"
      ],
      "metadata": {
        "id": "TowQ0Ez1UyKo"
      },
      "id": "TowQ0Ez1UyKo"
    },
    {
      "cell_type": "code",
      "source": [
        "xr_event = tree['event_0']\n",
        "ds_event = xr_event.to_dataset()\n",
        "print(tree['event_0'])"
      ],
      "metadata": {
        "id": "70h_Sh_nU-kt"
      },
      "id": "70h_Sh_nU-kt",
      "execution_count": null,
      "outputs": []
    },
    {
      "cell_type": "markdown",
      "source": [
        "From this we can see that the group (event_0) contains a dataset with:\n",
        "\n",
        "* 1 coordinate: time, which has the date and time stamp\n",
        "\n",
        "* Flow measurements for individual flumes (e.g., flume_2, flume_3, ..., flume_121)\n",
        "\n",
        "Now we will visualize the hydrographs:"
      ],
      "metadata": {
        "id": "_8qNByf5cWSF"
      },
      "id": "_8qNByf5cWSF"
    },
    {
      "cell_type": "code",
      "source": [
        "ds = tree['event_0'].ds\n",
        "\n",
        "# Plot each flume's hydrograph\n",
        "plt.figure(figsize=(6, 3))\n",
        "\n",
        "for var in ds.data_vars:\n",
        "    ds[var].plot(label=var)\n",
        "\n",
        "plt.title(\"Hydrographs for Event 0\")\n",
        "plt.xlabel(\"Time\")\n",
        "plt.ylabel(\"Discharge (m$^3$)\")\n",
        "plt.legend(title=\"Flume\")\n",
        "plt.tight_layout()\n",
        "plt.show()"
      ],
      "metadata": {
        "collapsed": true,
        "id": "hFmtymx9cnkw"
      },
      "id": "hFmtymx9cnkw",
      "execution_count": null,
      "outputs": []
    },
    {
      "cell_type": "markdown",
      "source": [
        "#Task\n",
        "Have a go at plotting the hydrographs for other flow events by changing the event number in `ds = tree['event_0'].ds`\n",
        "\n",
        "You should start to get a feel for how the spatial and temporal patterns of flow within the watershed vary for different rainfall-runoff events."
      ],
      "metadata": {
        "id": "2cRjuWFnfNY5"
      },
      "id": "2cRjuWFnfNY5"
    },
    {
      "cell_type": "markdown",
      "source": [
        "#Calculating correlation-based functional connectivity for Event 8\n",
        "We'll first take a look at Event 8, as this is the largest event within this dataset.\n",
        "\n",
        "First, view the hydrographs for Event 8. You can either view it in the code block above, or add a new code block below, and modify the code accordingly.\n"
      ],
      "metadata": {
        "id": "u1vUh-_sg7Li"
      },
      "id": "u1vUh-_sg7Li"
    },
    {
      "cell_type": "code",
      "source": [
        "# Code to look at both types of functional connectivity for event 8\n",
        "# Set the event label to process\n",
        "event_label = 'event_8'  # <-- change this as needed\n",
        "\n",
        "# Convert structural adjacency matrices to numpy arrays\n",
        "#adj_sim_mix = np.array(adj_sim_mix)\n",
        "#adj_seq_mix = np.array(adj_seq_mix)\n",
        "adj_seq_mix = np.nan_to_num(np.array(adj_seq_mix), nan=0)\n",
        "\n",
        "# Access the event dataset\n",
        "xr_event = tree[event_label]\n",
        "ds_event = xr_event.to_dataset()\n",
        "\n",
        "# Prepare the time series DataFrame\n",
        "df_complete = pd.DataFrame(columns=flume_labels)\n",
        "df = ds_event.to_dataframe()\n",
        "common_columns = df_complete.columns.intersection(df.columns)\n",
        "df_complete[common_columns] = df[common_columns]"
      ],
      "metadata": {
        "id": "auiTisbsh6TU"
      },
      "id": "auiTisbsh6TU",
      "execution_count": null,
      "outputs": []
    },
    {
      "cell_type": "markdown",
      "source": [
        "Let's pause again here to look at the structure of the data:"
      ],
      "metadata": {
        "id": "cpoTy6K7vZ61"
      },
      "id": "cpoTy6K7vZ61"
    },
    {
      "cell_type": "code",
      "source": [
        "df_complete"
      ],
      "metadata": {
        "collapsed": true,
        "id": "0Teu9ZHPvduC"
      },
      "id": "0Teu9ZHPvduC",
      "execution_count": null,
      "outputs": []
    },
    {
      "cell_type": "markdown",
      "source": [
        "The dataframe is made up or rows of data, with a date/time stamp, and colums that contain flow data for each flume. Flumes with no flow contain \"NaN\".\n",
        "\n",
        "# Calculating functional connectivity\n",
        "Now that the data is appropriately formatted, we can calculate two types of functional connectivity between nodes (flumes).\n",
        "\n",
        "The mathematical expression for the $FC$ matrices is  \n",
        "\n",
        "\\begin{equation}\n",
        "FC_{sync_{ij}} = \\text{corr}_{t}(Q_{i}(t), Q_{j}(t))\n",
        "\\end{equation}\n",
        "\\begin{equation}\n",
        "FC_{seq_{ij}} = \\text{corr}_{t}(Q_{i}(t), Q_{j}(t + \\tau_{ij}))\n",
        "\\end{equation}\n",
        "\n",
        "where $Q_{i}(t)$ is the time series of runoff rate of flume $i$ within an individual event, $\\tau_{ij}$ is the average time required for the water to reach flume $j$ from flume $i$ and it is calculated as a time-delay in the hydrographs to construct the $FC_{seq}$ matrix.\n",
        "\n"
      ],
      "metadata": {
        "id": "7a-RI0tDvl3B"
      },
      "id": "7a-RI0tDvl3B"
    },
    {
      "cell_type": "code",
      "source": [
        "# Compute functional connectivity (correlation)\n",
        "fc_sim = df_complete.corr().fillna(0).to_numpy()\n",
        "\n",
        "# Compute sequential functional connectivity (custom function)\n",
        "fc_seq = compute_fc_seq_for_event(df_complete, flume_labels, df_edges_seq)\n"
      ],
      "metadata": {
        "id": "hvskgPZEvWCS"
      },
      "id": "hvskgPZEvWCS",
      "execution_count": null,
      "outputs": []
    },
    {
      "cell_type": "markdown",
      "source": [
        "**Recap:** Here we have calculated the correlation of hydographs between nodes. In the case of $FC_{seq}$, the correlation includes a lag time.\n",
        "\n",
        "Now, the functional connectivity adjacency matrices contain a correlations we've just calculated, which, in this conceptualization of connectivity, is the strength of connectivity between nodes.\n",
        "\n",
        "Let's view the adjacency matrix for $FC_{seq}$.\n",
        "\n",
        "This time, we'll use a red-white-blue colour scale, where the colour indicates the strength and direction (+ve, -ve) of the correlation."
      ],
      "metadata": {
        "id": "GfC7RYQ_ndhj"
      },
      "id": "GfC7RYQ_ndhj"
    },
    {
      "cell_type": "code",
      "source": [
        "# Convert the fc_seq matrix into a pandas dataframe to plot out the adjacency matrix\n",
        "fc_seq_df = pd.DataFrame(fc_seq, index=flumes, columns=flumes)\n",
        "\n",
        "plt.figure(figsize=(5, 5))\n",
        "sns.heatmap(\n",
        "    fc_seq_df,\n",
        "    cmap='bwr',        # blue-white-red colormap\n",
        "    center=0,          # white centered at zero\n",
        "    square=True,\n",
        "    vmin=-1,        # lower limit of the color scale\n",
        "    vmax=1,         # upper limit of the color scale\n",
        "    cbar_kws={\"label\": \"Weight\"}\n",
        ")\n",
        "\n",
        "plt.title(\"$FC_{seq}$ Adjacency Matrix\")\n",
        "plt.xlabel(\"To Node\")\n",
        "plt.ylabel(\"From Node\")\n",
        "plt.tight_layout()\n",
        "plt.show()\n"
      ],
      "metadata": {
        "id": "ZkSbz85Lorcm"
      },
      "id": "ZkSbz85Lorcm",
      "execution_count": null,
      "outputs": []
    },
    {
      "cell_type": "markdown",
      "source": [
        "#Task\n",
        "Have a go at modifying the code to view the $FC_{sim}$ adjacency matrix."
      ],
      "metadata": {
        "id": "Ikat1pjBt1gF"
      },
      "id": "Ikat1pjBt1gF"
    },
    {
      "cell_type": "code",
      "source": [
        "# Have a go at entering code here (you can copy and past the above example and edit the relevant bits!) to plot out the $FC_{sim}$ adjacency matrix\n"
      ],
      "metadata": {
        "id": "tRVaXSmyKk9z"
      },
      "id": "tRVaXSmyKk9z",
      "execution_count": null,
      "outputs": []
    },
    {
      "cell_type": "markdown",
      "source": [
        "#Vizualizing the $FC_{seq}$ network\n",
        "We can now visualize the spatial patterns of $FC_{seq}$, by creating the graph from the adjacency matrix, and then drawing the spatial network using networkx and the node coordinates, as we did before."
      ],
      "metadata": {
        "id": "EfeNaJQkK6Ua"
      },
      "id": "EfeNaJQkK6Ua"
    },
    {
      "cell_type": "code",
      "source": [
        "#Create the graph\n",
        "G_FCseq = nx.from_pandas_adjacency(fc_seq_df, create_using=nx.DiGraph)\n",
        "\n",
        "# Filter edges that have non-NaN weights\n",
        "edges = [(u, v, d) for u, v, d in G_FCseq.edges(data=True) if not np.isnan(d['weight'])]\n",
        "edge_tuples = [(u, v) for u, v, _ in edges]\n",
        "weights = [d['weight'] for _, _, d in edges]\n",
        "\n",
        "# Use a diverging colormap: blue (low) → white (mid) → red (high)\n",
        "cmap = plt.cm.seismic\n",
        "norm = colors.Normalize(vmin=-1, vmax=1)  # fix scale from -1 to 1\n",
        "\n",
        "# Create figure and axis — this is what you were missing\n",
        "fc_fig, ax = plt.subplots(figsize=(10, 8))\n",
        "\n",
        "# Draw the graph\n",
        "nx.draw(\n",
        "    G_FCseq,\n",
        "    pos=pos,\n",
        "    with_labels=True,\n",
        "    node_color='red',\n",
        "    edge_color=weights,\n",
        "    edge_cmap=cmap,\n",
        "    edge_vmin=-1, edge_vmax=1,\n",
        "    width=2,\n",
        "    node_size=200,\n",
        "    connectionstyle='arc3,rad=0.5'  # curves the edges\n",
        ")\n",
        "\n",
        "\n",
        "# Add colorbar to this axis\n",
        "sm = plt.cm.ScalarMappable(cmap=cmap, norm=norm)\n",
        "sm.set_array([])\n",
        "cbar = fc_fig.colorbar(sm, ax=ax)\n",
        "cbar.set_label(\"Edge Weight\")\n",
        "\n",
        "plt.title(\"$FC_{seq}$ network for 'Event 8\")\n",
        "plt.axis(\"equal\")\n",
        "plt.show()"
      ],
      "metadata": {
        "id": "LOhl6YhELcjM"
      },
      "id": "LOhl6YhELcjM",
      "execution_count": null,
      "outputs": []
    },
    {
      "cell_type": "markdown",
      "id": "1ed1d5d2-9eba-4750-bbdd-6dce4700dfe0",
      "metadata": {
        "id": "1ed1d5d2-9eba-4750-bbdd-6dce4700dfe0"
      },
      "source": [
        "# SC/FC correlations\n",
        "\n",
        "So far we have calculated the SC and FC adjacency matrices for both types of connectivity. This allows us to visualize local patterns of connectivity, rather like the local metrics you calculated earlier.\n",
        "\n",
        "As an overall indicator of the extent to which functional connectivity occupies the structural space upon which connectivity can occur, i.e. the structural connectivity template, we can calculate the SC/FC correlation. This correlation (the Pearson correlation) is equivalent to the global connectivity measures introduced earlier, where a single measure gives an overall indication of some characteristic of connectivity within a network.\n",
        "\n",
        "Now for the details...\n",
        "\n",
        "Before undertaking SC/FC correlations, we need to remove the diagonals from the adjacency matrix (where the correlation is 1!):"
      ]
    },
    {
      "cell_type": "code",
      "execution_count": null,
      "id": "04ee0f42-b6cf-468f-af5d-f932c06a9d60",
      "metadata": {
        "id": "04ee0f42-b6cf-468f-af5d-f932c06a9d60"
      },
      "outputs": [],
      "source": [
        "def remove_diagonal(A):\n",
        "\n",
        "    return A[~np.eye(A.shape[0],dtype=bool)].reshape(A.shape[0],-1)"
      ]
    },
    {
      "cell_type": "markdown",
      "source": [
        "We are then in a position to calculate the SC/FC correlation using this function:"
      ],
      "metadata": {
        "id": "nBKyXclvRwfp"
      },
      "id": "nBKyXclvRwfp"
    },
    {
      "cell_type": "code",
      "source": [
        "def sc_fc_correlations(adj_matrix, fc_sim, fc_seq):\n",
        "\n",
        "    adj_matrix_no_diag = remove_diagonal(adj_matrix)\n",
        "    fc_sim_no_diag = remove_diagonal(fc_sim)\n",
        "    fc_seq_no_diag = remove_diagonal(fc_seq)\n",
        "    sc_fc_sim = np.corrcoef(adj_matrix_no_diag.flatten(), fc_sim_no_diag.flatten())[0][1]\n",
        "    sc_fc_seq = np.corrcoef(adj_matrix_no_diag.flatten(), fc_seq_no_diag.flatten())[0][1]\n",
        "\n",
        "    return sc_fc_sim, sc_fc_seq"
      ],
      "metadata": {
        "id": "LRltXi5uRu-Z"
      },
      "id": "LRltXi5uRu-Z",
      "execution_count": null,
      "outputs": []
    },
    {
      "cell_type": "markdown",
      "source": [
        "#Calculating SC-FC correlations\n",
        "So far we have calculated adjacency matrices for structural connectivity and functional connectivity. These give us detailed infromation on the level of connectivity between nodes in the network, in both a static (i.e. structural) and dynamic (i.e. functional) sense.\n",
        "\n",
        "As an overall measure of connectivity, we can calculate the SC-FC correlation. Recall that structural connectivity is essentially the possiblity space over which the funcitonal connecticity can operate.\n",
        "\n",
        "The SC-FC correlation gives an overall indication of the extent to which the FC occupies the structural space over which a connected runoff response can occur."
      ],
      "metadata": {
        "id": "fHFxxk30nqi8"
      },
      "id": "fHFxxk30nqi8"
    },
    {
      "cell_type": "code",
      "source": [
        "# Remove diagonals and flatten for correlation\n",
        "adj_flat = remove_diagonal(adj_sim_mix).flatten()\n",
        "fcsim_flat = remove_diagonal(fc_sim).flatten()\n",
        "\n",
        "adj_flat_mix = remove_diagonal(adj_seq_mix).flatten()\n",
        "fcseq_flat = remove_diagonal(fc_seq).flatten()\n",
        "\n",
        "# Compute SCFC metrics\n",
        "scfc_sim = np.corrcoef(adj_flat, fcsim_flat)[0][1]\n",
        "scfc_sim_norm = scfc_sim * (len(xr_event.data_vars) / len(flume_labels))\n",
        "\n",
        "scfc_seq_mix = np.corrcoef(adj_flat_mix, fcseq_flat)[0][1]\n",
        "scfc_seq_norm_mix = scfc_seq_mix * (len(xr_event.data_vars) / len(flume_labels))\n",
        "\n",
        "# Package results into a DataFrame\n",
        "df_scfcs = pd.DataFrame({\n",
        "    'event':[event_label],\n",
        "    'scfc_sim': [scfc_sim_norm],\n",
        "    'scfc_seq': [scfc_seq_norm_mix]\n",
        "}).fillna(0)\n",
        "\n",
        "# Display result\n",
        "print(df_scfcs)"
      ],
      "metadata": {
        "id": "O5WuNvZXnjV6"
      },
      "id": "O5WuNvZXnjV6",
      "execution_count": null,
      "outputs": []
    },
    {
      "cell_type": "markdown",
      "source": [
        "As you can see, the SC-FC correlation for each type of connectivity is a single value that expresses the degree of correlation between the SC adjacency matrix and the FC adjacency matrix.\n",
        "\n",
        "The SC-FC correlation is another type of global (i.e. network level) connectivity measure, that characterizes connectivity propoerties of the entire network, and in this case, it expresses properties of the FC network in relation to the SC network, which is a step beyond the global measures you explored earlier."
      ],
      "metadata": {
        "id": "rkUqGMtsp-qc"
      },
      "id": "rkUqGMtsp-qc"
    },
    {
      "cell_type": "markdown",
      "source": [
        "You've now walked through all the stages of $FC_{sim}$, $FC_{seq}$ and *SC-FC correlation* calculations for a single event.\n",
        "\n",
        "With all the data stored in the netcdf file, for the period between 2000 and 2006, we can loop through each event to calculate the SC, FC and SC-FC correlation values, as follows:"
      ],
      "metadata": {
        "id": "NRX3f4vSXUpL"
      },
      "id": "NRX3f4vSXUpL"
    },
    {
      "cell_type": "code",
      "execution_count": null,
      "id": "5f1dbb48-1dcb-4286-902e-cd2a32468835",
      "metadata": {
        "id": "5f1dbb48-1dcb-4286-902e-cd2a32468835",
        "collapsed": true
      },
      "outputs": [],
      "source": [
        "adj_sim_mix = np.array(adj_sim_mix)#(df1 + df2)/2) #adj_sim_mix.fillna(0))\n",
        "adj_seq_mix = np.array(adj_seq_mix)\n",
        "\n",
        "scfcs = {}\n",
        "scfcs['scfc_sim'] = []\n",
        "scfcs['scfc_seq'] = []\n",
        "\n",
        "for label in event_labels:\n",
        "    xr_event = tree[label]\n",
        "    ds_event = xr_event.to_dataset()\n",
        "\n",
        "    df_complete = pd.DataFrame(columns=flume_labels)\n",
        "    df = ds_event.to_dataframe()\n",
        "    common_columns = df_complete.columns.intersection(df.columns)\n",
        "\n",
        "    # Map the common columns to df_complete\n",
        "    df_complete[common_columns] = df[common_columns]  # .fillna(0) if needed\n",
        "\n",
        "    T = len(df_complete)\n",
        "    #fc_sim = np.zeros((len(flume_labels), len(flume_labels)))\n",
        "    fcsim = df_complete.corr()\n",
        "    fcsim = fcsim.fillna(0).to_numpy()\n",
        "\n",
        "    fc_seq = compute_fc_seq_for_event(df_complete, flume_labels, df_edges_seq)\n",
        "\n",
        "    adj_flat = remove_diagonal(adj_sim_mix).flatten()\n",
        "    fcsim_flat = remove_diagonal(fcsim).flatten()\n",
        "\n",
        "    adj_flat_mix = remove_diagonal(adj_seq_mix).flatten()\n",
        "    fcseq_flat = remove_diagonal(fc_seq).flatten()\n",
        "\n",
        "    scfc_sim = np.corrcoef(adj_flat, fcsim_flat)[0][1]\n",
        "    scfc_sim_norm = scfc_sim*(len(xr_event.data_vars)/len(flume_labels))\n",
        "\n",
        "    scfc_seq_mix = np.corrcoef(adj_flat_mix, fcseq_flat)[0][1]\n",
        "    scfc_seq_norm_mix = scfc_seq_mix * (len(xr_event.data_vars) / len(flume_labels))\n",
        "\n",
        "    scfcs['scfc_sim'].append(scfc_sim)\n",
        "    scfcs['scfc_seq'].append(scfc_seq_norm_mix)\n",
        "\n",
        "df_scfcs = pd.DataFrame(scfcs).fillna(0)\n",
        "\n",
        "df_scfcs['event'] = event_labels"
      ]
    },
    {
      "cell_type": "markdown",
      "source": [
        "We can view the dataframe containing all the SC-FC correlations for both types of connectivity and across both events by printing out the dataframe."
      ],
      "metadata": {
        "id": "U8ANWWnPYIw6"
      },
      "id": "U8ANWWnPYIw6"
    },
    {
      "cell_type": "code",
      "source": [
        "print(df_scfcs)"
      ],
      "metadata": {
        "id": "WJSDOeW8Uc-a"
      },
      "id": "WJSDOeW8Uc-a",
      "execution_count": null,
      "outputs": []
    },
    {
      "cell_type": "markdown",
      "source": [
        "#Exploratory analysis of the two types of SC-FC relations"
      ],
      "metadata": {
        "id": "UMTVcr9C9a4t"
      },
      "id": "UMTVcr9C9a4t"
    },
    {
      "cell_type": "markdown",
      "source": [
        "Now that you've successfully calculate the SC-FC correlations for 61 rainfall-runoff events,\n",
        "you can start to undertake exploratory analyses to uncover what these connectivity propoerties actually mean in terms of the overall behaviour of the watershed during rainfall events, and possible interactions between the two types of connectivity.\n",
        "\n",
        "As a starting point, we can load simple summaries of event rainfall, watershed discharge (at Flume 1) and the runoff coefficient, and use this to see how these values vary in accordance with SC-FC."
      ],
      "metadata": {
        "id": "nSPMGbdv2jBX"
      },
      "id": "nSPMGbdv2jBX"
    },
    {
      "cell_type": "code",
      "source": [
        "event_summary = pd.read_csv(rain_runoff_summary)\n",
        "df_merged = pd.merge(df_scfcs, event_summary, left_index=True, right_index=True)"
      ],
      "metadata": {
        "id": "92OgeXcbNiXJ"
      },
      "id": "92OgeXcbNiXJ",
      "execution_count": null,
      "outputs": []
    },
    {
      "cell_type": "code",
      "source": [
        "plt.figure(figsize=(12, 5))\n",
        "plt.subplot(1, 2, 1)\n",
        "scatter1 = plt.scatter(df_merged['scfc_sim'], df_merged['scfc_seq'],\n",
        "            edgecolor='k', alpha=0.8, c=df_merged['rainfall_average_mm'],\n",
        "            cmap='viridis' )\n",
        "plt.xlabel(\"SCFC (synchronous)\")\n",
        "plt.ylabel(\"SCFC (sequential)\")\n",
        "plt.grid(True)\n",
        "plt.axhline(0, color='gray', linestyle='--', linewidth=0.8)\n",
        "plt.axvline(0, color='gray', linestyle='--', linewidth=0.8)\n",
        "\n",
        "colorbar1 = plt.colorbar(scatter1)\n",
        "colorbar1.set_label(\"Rainfall (mm)\")\n",
        "\n",
        "plt.subplot(1, 2, 2)\n",
        "scatter2 = plt.scatter(df_merged['scfc_sim'], df_merged['scfc_seq'],\n",
        "            edgecolor='k', alpha=0.8, c=df_merged['flume_1'],\n",
        "            cmap='viridis' )\n",
        "plt.xlabel(\"SCFC (synchronous)\")\n",
        "plt.ylabel(\"SCFC (sequential)\")\n",
        "plt.grid(True)\n",
        "plt.axhline(0, color='gray', linestyle='--', linewidth=0.8)\n",
        "plt.axvline(0, color='gray', linestyle='--', linewidth=0.8)\n",
        "\n",
        "colorbar2 = plt.colorbar(scatter2)\n",
        "colorbar2.set_label(\"Q (m$^3$)\")\n",
        "\n",
        "plt.tight_layout()\n",
        "plt.show()"
      ],
      "metadata": {
        "id": "yLtUqbUU9ggW"
      },
      "id": "yLtUqbUU9ggW",
      "execution_count": null,
      "outputs": []
    },
    {
      "cell_type": "markdown",
      "source": [
        "A key thing to note here is that there are events with fairly high $SC-FC_{seq}$  and $SC-FC_{sim}$, yet with low to no flow at the watershed outlet.\n",
        "\n",
        "These high levels of connectivity within the watershed emphasize the importance of understanding the nature of connectivity within a system, and its effects on water redistribution, riparian processes, sediment transport and channel morphology."
      ],
      "metadata": {
        "id": "6gyoybCitM9X"
      },
      "id": "6gyoybCitM9X"
    },
    {
      "cell_type": "markdown",
      "source": [
        "##Tasks for you to have a think about:\n",
        "What other types of exploratory analyses you could carry out to understand structural and functional connectivity their interactions, now that you've calculated at adjacency matrix and SC-FC correlations?\n",
        "\n",
        "Can you plot out the correlation networks for $FC_{seq}$ for events with similar $SC-FC_{seq}$ values and explore how variable patterns of $FC_{seq}$ are for a given $SC-FC_{seq}$  value."
      ],
      "metadata": {
        "id": "BGaQbZyjZ7Nh"
      },
      "id": "BGaQbZyjZ7Nh"
    },
    {
      "cell_type": "markdown",
      "source": [
        "# References\n",
        "Goodrich, D., Kepner, W. G., Levick, L., & Wigington Jr, P. (2018). Southwestern\n",
        "intermittent and ephemeral stream connectivity. JAWRA Journal of the American Water Resources Association, 54 (2), 400–422.\n",
        "\n",
        "Goodrich, D. C., Lane, L. J., Shillito, R. M., Miller, S. N., Syed, K. H., & Woolhiser, D. A. (1997). Linearity of basin response as a function of scale in a semiarid watershed. Water resources research, 33 (12), 2951–2965.\n",
        "\n",
        "Heilman, P., Nichols, M., Goodrich, D., Miller, S., & Guertin, D. (2008). Geographic information systems database, Walnut Gulch Experimental Watershed, Arizona, United States. Water Resources Research, 44 (5).\n",
        "\n",
        "Lu, H. et al (2024). Towards transient connectivity of river networks during rainfall events: Insight from hydrological observation and functional data\n",
        " analysis. Journal of Hydrology, 637 (131366).\n",
        "\n",
        "Voutsa V et al. (2021) Two classes of functional connectivity in dynamical processes in networks. J. R. Soc. Interface 18: 20210486. https://doi.org/10.1098/rsif.2021.0486"
      ],
      "metadata": {
        "id": "kOpE4omezBAn"
      },
      "id": "kOpE4omezBAn"
    }
  ],
  "metadata": {
    "kernelspec": {
      "display_name": "Python(testenv)",
      "language": "python",
      "name": "testenv"
    },
    "language_info": {
      "codemirror_mode": {
        "name": "ipython",
        "version": 3
      },
      "file_extension": ".py",
      "mimetype": "text/x-python",
      "name": "python",
      "nbconvert_exporter": "python",
      "pygments_lexer": "ipython3",
      "version": "3.12.4"
    },
    "colab": {
      "provenance": [],
      "include_colab_link": true
    }
  },
  "nbformat": 4,
  "nbformat_minor": 5
}